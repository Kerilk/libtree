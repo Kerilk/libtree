{
 "cells": [
  {
   "cell_type": "markdown",
   "metadata": {},
   "source": [
    "# Finite Tree Automata for Domain Specific Languages"
   ]
  },
  {
   "cell_type": "markdown",
   "metadata": {},
   "source": [
    "Problem: manipulating trees representing expressions in a DSL:\n",
    "![tree more or less](./hpsi.svg \"hpsi BigDFT\")\n",
    "Finding patterns that can be factored/transformed into optimized operators.\n",
    "\n",
    "Maybe using an equivalent of regular expressions on trees?\n",
    "\n",
    "Reference : TATA (Tree Automata Technique and Applications)"
   ]
  },
  {
   "cell_type": "markdown",
   "metadata": {},
   "source": [
    "## I. Playing with Trees"
   ]
  },
  {
   "cell_type": "code",
   "execution_count": null,
   "metadata": {
    "collapsed": false
   },
   "outputs": [],
   "source": [
    "require_relative '../lib/libtree'\n",
    "require_relative '../lib/libtree/graphviz'"
   ]
  },
  {
   "cell_type": "markdown",
   "metadata": {},
   "source": [
    "### Defining a System and a Tree"
   ]
  },
  {
   "cell_type": "code",
   "execution_count": null,
   "metadata": {
    "collapsed": false
   },
   "outputs": [],
   "source": [
    "mod = LibTree::define_system( \n",
    "  alphabet: {\n",
    "    f: 3,\n",
    "    g: 2,\n",
    "    h: 1,\n",
    "    a: 0,\n",
    "    b: 0\n",
    "  },\n",
    "  variables: [:x, :y]\n",
    ")\n",
    "extend mod\n",
    "t = f(g(a,b),a,h(b))\n",
    "t.to_s"
   ]
  },
  {
   "cell_type": "code",
   "execution_count": null,
   "metadata": {
    "collapsed": false
   },
   "outputs": [],
   "source": [
    "IRuby::display(t.to_graphviz.output( png: String ), mime: \"image/png\" )\n",
    "nil;"
   ]
  },
  {
   "cell_type": "markdown",
   "metadata": {},
   "source": [
    "### Positions"
   ]
  },
  {
   "cell_type": "code",
   "execution_count": null,
   "metadata": {
    "collapsed": false
   },
   "outputs": [],
   "source": [
    "p t.positions\n",
    "p t[0,1]\n",
    "nil;"
   ]
  },
  {
   "cell_type": "code",
   "execution_count": null,
   "metadata": {
    "collapsed": false
   },
   "outputs": [],
   "source": [
    "t[0,1]= g(a,a)\n",
    "IRuby::display(t.to_graphviz.output( png: String ), mime: \"image/png\" )\n",
    "nil;"
   ]
  },
  {
   "cell_type": "markdown",
   "metadata": {},
   "source": [
    "### Iterations"
   ]
  },
  {
   "cell_type": "code",
   "execution_count": null,
   "metadata": {
    "collapsed": false
   },
   "outputs": [],
   "source": [
    "t.each { |n| print n.symbol }\n",
    "puts\n",
    "t.each(:post) { |n| print n.symbol }\n",
    "nil;"
   ]
  },
  {
   "cell_type": "code",
   "execution_count": null,
   "metadata": {
    "collapsed": false
   },
   "outputs": [],
   "source": [
    "t.each(:pre) { |n| print n.symbol }\n",
    "nil;"
   ]
  },
  {
   "cell_type": "markdown",
   "metadata": {},
   "source": [
    "### Substitutions"
   ]
  },
  {
   "cell_type": "code",
   "execution_count": null,
   "metadata": {
    "collapsed": false
   },
   "outputs": [],
   "source": [
    "t = f(x,x,y)\n",
    "IRuby::display(t.to_graphviz.output( png: String ), mime: \"image/png\" )\n",
    "nil;"
   ]
  },
  {
   "cell_type": "code",
   "execution_count": null,
   "metadata": {
    "collapsed": false
   },
   "outputs": [],
   "source": [
    "s = substitution( rules: { \n",
    "  x => a,\n",
    "  y => g(b, b)\n",
    "  } )\n",
    "t2 = s[t]\n",
    "IRuby::display(t2.to_graphviz.output( png: String ), mime: \"image/png\" )\n",
    "nil;"
   ]
  },
  {
   "cell_type": "markdown",
   "metadata": {},
   "source": [
    "## Homomorphism"
   ]
  },
  {
   "cell_type": "code",
   "execution_count": null,
   "metadata": {
    "collapsed": false
   },
   "outputs": [],
   "source": [
    "mod = LibTree::define_system( alphabet: {h: 3, g: 3, f: 2, a: 0, b: 0} )\n",
    "extend mod\n",
    "homomorphism = LibTree::Homomorphism::new(\n",
    "  input_system: mod,\n",
    "  output_system: mod,\n",
    "  variables: [x1, x2, x3],\n",
    "  rules: { \n",
    "    :g => f(x1, f(x2, x3))\n",
    "    }\n",
    "  )\n",
    "t = g(a,g(b,b,b),a)\n",
    "nil;"
   ]
  },
  {
   "cell_type": "code",
   "execution_count": null,
   "metadata": {
    "collapsed": false
   },
   "outputs": [],
   "source": [
    "IRuby::display(t.to_graphviz.output( png: String ), mime: \"image/png\" )\n",
    "nil;"
   ]
  },
  {
   "cell_type": "code",
   "execution_count": null,
   "metadata": {
    "collapsed": false
   },
   "outputs": [],
   "source": [
    "IRuby::display(homomorphism[t].to_graphviz.output( png: String ), mime: \"image/png\" )\n",
    "nil;"
   ]
  },
  {
   "cell_type": "markdown",
   "metadata": {},
   "source": [
    "## II. Automata"
   ]
  },
  {
   "cell_type": "markdown",
   "metadata": {},
   "source": [
    "### Bottom Up Automaton"
   ]
  },
  {
   "cell_type": "code",
   "execution_count": null,
   "metadata": {
    "collapsed": false
   },
   "outputs": [],
   "source": [
    "mod = LibTree::define_system( \n",
    "  alphabet: {\n",
    "    o: 2,\n",
    "    a: 2,\n",
    "    n: 1,\n",
    "    one: 0,\n",
    "    zero: 0\n",
    "    }\n",
    "  )\n",
    "puts mod\n",
    "extend mod\n",
    "nil;"
   ]
  },
  {
   "cell_type": "code",
   "execution_count": null,
   "metadata": {
    "collapsed": false
   },
   "outputs": [],
   "source": [
    "t1 = a(n(o(zero,one)),o(one,n(zero)))\n",
    "t2 = a(n(n(o(zero,one))),o(one,n(zero)))\n",
    "IRuby::display(t1.to_graphviz.output( png: String ), mime: \"image/png\" )\n",
    "IRuby::display(t2.to_graphviz.output( png: String ), mime: \"image/png\" )\n",
    "nil;"
   ]
  },
  {
   "cell_type": "code",
   "execution_count": null,
   "metadata": {
    "collapsed": false
   },
   "outputs": [],
   "source": [
    "automaton = LibTree::Automaton::new(\n",
    "  system: mod,\n",
    "  states: [:q0, :q1],\n",
    "  final_states: [:q1],\n",
    "  rules: {\n",
    "    zero => :q0,\n",
    "    one => :q1,\n",
    "    n(:q0) => :q1,\n",
    "    n(:q1) => :q0,\n",
    "    a(:q0, :q0) => :q0,\n",
    "    a(:q1, :q0) => :q0,\n",
    "    a(:q0, :q1) => :q0,\n",
    "    a(:q1, :q1) => :q1,\n",
    "    o(:q0, :q0) => :q0,\n",
    "    o(:q1, :q0) => :q1,\n",
    "    o(:q0, :q1) => :q1,\n",
    "    o(:q1, :q1) => :q1\n",
    "    }\n",
    "  )\n",
    "puts automaton\n",
    "nil;"
   ]
  },
  {
   "cell_type": "code",
   "execution_count": null,
   "metadata": {
    "collapsed": false
   },
   "outputs": [],
   "source": [
    "r = automaton.run(t1, rewrite: false)\n",
    "IRuby::display(r.tree.to_graphviz.output( png: String ), mime: \"image/png\" )\n",
    "sleep 3\n",
    "\n",
    "loop do\n",
    "  r.move\n",
    "  IRuby::Display::clear_output(true)\n",
    "  IRuby::display(r.tree.to_graphviz.output( png: String ), mime: \"image/png\" )\n",
    "  sleep 1\n",
    "end\n",
    "puts \"Sucessfull? #{r.successful?}\"\n",
    "nil;"
   ]
  },
  {
   "cell_type": "code",
   "execution_count": null,
   "metadata": {
    "collapsed": false
   },
   "outputs": [],
   "source": [
    "r = automaton.run(t2, rewrite: false)\n",
    "IRuby::display(r.tree.to_graphviz.output( png: String ), mime: \"image/png\" )\n",
    "sleep 3\n",
    "loop do\n",
    "  r.move\n",
    "  IRuby::Display::clear_output(true)\n",
    "  IRuby::display(r.tree.to_graphviz.output( png: String ), mime: \"image/png\" )\n",
    "  sleep 1\n",
    "end\n",
    "puts \"Sucessfull? #{r.successful?}\"\n",
    "nil;"
   ]
  },
  {
   "cell_type": "markdown",
   "metadata": {},
   "source": [
    "### Rewriting Automaton"
   ]
  },
  {
   "cell_type": "code",
   "execution_count": null,
   "metadata": {
    "collapsed": false
   },
   "outputs": [],
   "source": [
    "r = automaton.run(t2)\n",
    "IRuby::display(r.tree.to_graphviz.output( png: String ), mime: \"image/png\" )\n",
    "sleep 3\n",
    "loop do\n",
    "  r.move\n",
    "  IRuby::Display::clear_output(true)\n",
    "  IRuby::display(r.tree.to_graphviz.output( png: String ), mime: \"image/png\" )\n",
    "  sleep 1\n",
    "end\n",
    "puts \"Sucessfull? #{r.successful?}\"\n",
    "nil;"
   ]
  },
  {
   "cell_type": "markdown",
   "metadata": {},
   "source": [
    "### Top Down Automaton"
   ]
  },
  {
   "cell_type": "code",
   "execution_count": null,
   "metadata": {
    "collapsed": false
   },
   "outputs": [],
   "source": [
    "mod = LibTree::define_system( \n",
    "  alphabet: {\n",
    "    one: 1, \n",
    "    zero: 1, \n",
    "    nill: 0\n",
    "    },\n",
    "  variables: [\n",
    "    :x,\n",
    "    ],\n",
    "  states: [\n",
    "    :q0,\n",
    "    :q1,\n",
    "    :q2\n",
    "    ]\n",
    "  )\n",
    "extend mod\n",
    "nil;"
   ]
  },
  {
   "cell_type": "code",
   "execution_count": null,
   "metadata": {
    "collapsed": false
   },
   "outputs": [],
   "source": [
    "t1 = one(one(zero(nill)))\n",
    "t2 = one(zero(nill))\n",
    "IRuby::display(t1.to_graphviz.output( png: String ), mime: \"image/png\" )\n",
    "IRuby::display(t2.to_graphviz.output( png: String ), mime: \"image/png\" )\n",
    "nil;"
   ]
  },
  {
   "cell_type": "code",
   "execution_count": null,
   "metadata": {
    "collapsed": false
   },
   "outputs": [],
   "source": [
    "automaton = LibTree::TopDownAutomaton::new(\n",
    "  system: mod,\n",
    "  states: [:q0, :q1, :q2],\n",
    "  initial_states: [:q0],\n",
    "  rules: {\n",
    "    q0(nill) => nill,\n",
    "    q0(zero(x)) => zero(q0()),\n",
    "    q0( one(x)) =>  one(q1()),\n",
    "    q1(zero(x)) => zero(q2()),\n",
    "    q1( one(x)) =>  one(q0()),\n",
    "    q2(zero(x)) => zero(q1()),\n",
    "    q2( one(x)) =>  one(q2())\n",
    "    }\n",
    "  )\n",
    "puts automaton\n",
    "nil;"
   ]
  },
  {
   "cell_type": "code",
   "execution_count": null,
   "metadata": {
    "collapsed": false
   },
   "outputs": [],
   "source": [
    "r = automaton.run(t1)\n",
    "IRuby::display(r.tree.to_graphviz.output( png: String ), mime: \"image/png\" )\n",
    "sleep 3\n",
    "\n",
    "loop do\n",
    "  r.move\n",
    "  IRuby::Display::clear_output(true)\n",
    "  IRuby::display(r.tree.to_graphviz.output( png: String ), mime: \"image/png\" )\n",
    "  sleep 1\n",
    "end\n",
    "puts \"Sucessfull? #{r.successful?}\"\n",
    "nil;"
   ]
  },
  {
   "cell_type": "code",
   "execution_count": null,
   "metadata": {
    "collapsed": false
   },
   "outputs": [],
   "source": [
    "r = automaton.run(t2, rewrite: false)\n",
    "IRuby::display(r.tree.to_graphviz.output( png: String ), mime: \"image/png\" )\n",
    "sleep 3\n",
    "loop do\n",
    "  r.move\n",
    "  IRuby::Display::clear_output(true)\n",
    "  IRuby::display(r.tree.to_graphviz.output( png: String ), mime: \"image/png\" )\n",
    "  sleep 1\n",
    "end\n",
    "puts \"Sucessfull? #{r.successful?}\"\n",
    "nil;"
   ]
  },
  {
   "cell_type": "code",
   "execution_count": null,
   "metadata": {
    "collapsed": false
   },
   "outputs": [],
   "source": [
    "r = automaton.to_bottom_up_automaton.run(t1, rewrite: false)\n",
    "IRuby::display(r.tree.to_graphviz.output( png: String ), mime: \"image/png\" )\n",
    "sleep 3\n",
    "\n",
    "loop do\n",
    "  r.move\n",
    "  IRuby::Display::clear_output(true)\n",
    "  IRuby::display(r.tree.to_graphviz.output( png: String ), mime: \"image/png\" )\n",
    "  sleep 1\n",
    "end\n",
    "puts \"Sucessfull? #{r.successful?}\"\n",
    "nil;"
   ]
  },
  {
   "cell_type": "code",
   "execution_count": null,
   "metadata": {
    "collapsed": false
   },
   "outputs": [],
   "source": [
    "puts automaton.to_bottom_up_automaton"
   ]
  },
  {
   "cell_type": "markdown",
   "metadata": {},
   "source": [
    "## Algorithms on Automata"
   ]
  },
  {
   "cell_type": "markdown",
   "metadata": {},
   "source": [
    "List of non empty natural integer automaton."
   ]
  },
  {
   "cell_type": "code",
   "execution_count": null,
   "metadata": {
    "collapsed": false
   },
   "outputs": [],
   "source": [
    "mod = LibTree::define_system( \n",
    "  alphabet: {\n",
    "    cons: 2,\n",
    "    s: 1,\n",
    "    zero: 0,\n",
    "    empt: 0\n",
    "    },\n",
    "  variables: []\n",
    "  )\n",
    "extend mod\n",
    "automaton = LibTree::Automaton::new(\n",
    "  system: mod, \n",
    "  states: [:qnat, :qlist, :qnelist, :qminusone],\n",
    "  final_states: [:qnelist],\n",
    "  rules: {\n",
    "    zero => :qnat,\n",
    "    s(:qnat) => :qnat,\n",
    "    s(:qminusone) => :qnat,\n",
    "    empt => :qlist,\n",
    "    cons(:qnat, :qlist) => :qnelist,\n",
    "    :qnelist => :qlist\n",
    "    }\n",
    "  )\n",
    "puts automaton\n",
    "nil;"
   ]
  },
  {
   "cell_type": "markdown",
   "metadata": {},
   "source": [
    "### Epsilon Rules Removal\n",
    "Epsilon transitive closure."
   ]
  },
  {
   "cell_type": "code",
   "execution_count": null,
   "metadata": {
    "collapsed": false
   },
   "outputs": [],
   "source": [
    "automaton2 = automaton.remove_epsilon_rules\n",
    "puts automaton2\n",
    "nil;"
   ]
  },
  {
   "cell_type": "markdown",
   "metadata": {},
   "source": [
    "### Reduction\n",
    "Remove unaccessible states"
   ]
  },
  {
   "cell_type": "code",
   "execution_count": null,
   "metadata": {
    "collapsed": false
   },
   "outputs": [],
   "source": [
    "automaton3 = automaton2.reduce\n",
    "puts automaton3\n",
    "nil;"
   ]
  },
  {
   "cell_type": "markdown",
   "metadata": {},
   "source": [
    "### Determinization"
   ]
  },
  {
   "cell_type": "code",
   "execution_count": null,
   "metadata": {
    "collapsed": false
   },
   "outputs": [],
   "source": [
    "automaton4 = automaton3.determinize\n",
    "puts automaton4\n",
    "nil;"
   ]
  },
  {
   "cell_type": "code",
   "execution_count": null,
   "metadata": {
    "collapsed": false
   },
   "outputs": [],
   "source": [
    "automaton4.rename_states\n",
    "puts automaton4\n",
    "nil;"
   ]
  },
  {
   "cell_type": "code",
   "execution_count": null,
   "metadata": {
    "collapsed": false
   },
   "outputs": [],
   "source": [
    "automaton4.rename_states( mapping: {:qr0 => :qnat, :qr1 => :qlist, :qr2 => :qnelist})\n",
    "puts automaton4\n",
    "nil"
   ]
  },
  {
   "cell_type": "markdown",
   "metadata": {},
   "source": [
    "### Completion"
   ]
  },
  {
   "cell_type": "code",
   "execution_count": null,
   "metadata": {
    "collapsed": false
   },
   "outputs": [],
   "source": [
    "automaton5 = automaton4.complete\n",
    "puts automaton5\n",
    "nil"
   ]
  },
  {
   "cell_type": "markdown",
   "metadata": {},
   "source": [
    "### Union"
   ]
  },
  {
   "cell_type": "code",
   "execution_count": null,
   "metadata": {
    "collapsed": false
   },
   "outputs": [],
   "source": [
    "automaton_prime = LibTree::Automaton::new(\n",
    "  system: mod, \n",
    "  states: [:qnat, :qlist],\n",
    "  final_states: [:qlist],\n",
    "  rules: {\n",
    "    zero => :qnat,\n",
    "    s(:qnat) => :qnat,\n",
    "    empt => :qlist,\n",
    "    cons(:qnat, :qlist) => :qlist,\n",
    "    }\n",
    "  )\n",
    "puts automaton_prime\n",
    "nil;"
   ]
  },
  {
   "cell_type": "code",
   "execution_count": null,
   "metadata": {
    "collapsed": false
   },
   "outputs": [],
   "source": [
    "automaton_prime2 = automaton_prime.complete\n",
    "puts automaton_prime2\n",
    "nil;"
   ]
  },
  {
   "cell_type": "code",
   "execution_count": null,
   "metadata": {
    "collapsed": false
   },
   "outputs": [],
   "source": [
    "automaton6 = automaton5 | automaton_prime2\n",
    "puts automaton6\n",
    "nil;"
   ]
  },
  {
   "cell_type": "markdown",
   "metadata": {},
   "source": [
    "### Minimization"
   ]
  },
  {
   "cell_type": "code",
   "execution_count": null,
   "metadata": {
    "collapsed": false
   },
   "outputs": [],
   "source": [
    "puts automaton6.minimize.rename_states"
   ]
  },
  {
   "cell_type": "code",
   "execution_count": null,
   "metadata": {
    "collapsed": false
   },
   "outputs": [],
   "source": [
    "puts automaton_prime2"
   ]
  },
  {
   "cell_type": "markdown",
   "metadata": {},
   "source": [
    "## Grammars (Regular)"
   ]
  },
  {
   "cell_type": "code",
   "execution_count": null,
   "metadata": {
    "collapsed": false
   },
   "outputs": [],
   "source": [
    "non_terminals = LibTree::define_system( \n",
    "  alphabet: { \n",
    "    list: 0, \n",
    "    nat: 0\n",
    "    }\n",
    "  )\n",
    "terminals = LibTree::define_system( \n",
    "  alphabet: {\n",
    "    zero: 0,\n",
    "    void: 0,\n",
    "    s: 1,\n",
    "    cons: 2\n",
    "    }\n",
    "  )\n",
    "extend terminals\n",
    "extend non_terminals\n",
    "grammar = LibTree::RegularGrammar::new( \n",
    "  axiom: list, \n",
    "  non_terminals: non_terminals,\n",
    "  terminals: terminals,\n",
    "  rules: {\n",
    "    list => [ void, cons(nat, list)],\n",
    "    nat => [ zero, s(nat) ]\n",
    "    }\n",
    "  )\n",
    "puts grammar\n",
    "nil;"
   ]
  },
  {
   "cell_type": "markdown",
   "metadata": {},
   "source": [
    "### Derivation"
   ]
  },
  {
   "cell_type": "code",
   "execution_count": null,
   "metadata": {
    "collapsed": false
   },
   "outputs": [],
   "source": [
    "puts grammar.derivation.derivation\n",
    "puts grammar.derivation.derivation\n",
    "puts grammar.derivation.derivation\n",
    "puts grammar.derivation.derivation"
   ]
  },
  {
   "cell_type": "markdown",
   "metadata": {},
   "source": [
    "### Equivalent Automaton..."
   ]
  },
  {
   "cell_type": "code",
   "execution_count": null,
   "metadata": {
    "collapsed": false
   },
   "outputs": [],
   "source": [
    "puts grammar.bottom_up_automaton\n",
    "automaton = grammar.top_down_automaton\n",
    "puts automaton"
   ]
  },
  {
   "cell_type": "code",
   "execution_count": null,
   "metadata": {
    "collapsed": false
   },
   "outputs": [],
   "source": [
    "4.times {\n",
    "  r = automaton.run(grammar.derivation.derivation)\n",
    "  r.run\n",
    "  puts \"Successful? #{r.successful?}\"\n",
    "  }\n",
    "nil;"
   ]
  },
  {
   "cell_type": "markdown",
   "metadata": {},
   "source": [
    "### ...And Back."
   ]
  },
  {
   "cell_type": "code",
   "execution_count": null,
   "metadata": {
    "collapsed": false
   },
   "outputs": [],
   "source": [
    "puts automaton.to_grammar"
   ]
  },
  {
   "cell_type": "markdown",
   "metadata": {},
   "source": [
    "# Now On to Regular Expressions!!!\n",
    "Composition and concatenations of grammars."
   ]
  },
  {
   "cell_type": "code",
   "execution_count": null,
   "metadata": {
    "collapsed": true
   },
   "outputs": [],
   "source": []
  }
 ],
 "metadata": {
  "kernelspec": {
   "display_name": "Ruby 2.3.1",
   "language": "ruby",
   "name": "ruby"
  },
  "language_info": {
   "file_extension": ".rb",
   "mimetype": "application/x-ruby",
   "name": "ruby",
   "version": "2.3.3"
  }
 },
 "nbformat": 4,
 "nbformat_minor": 2
}
